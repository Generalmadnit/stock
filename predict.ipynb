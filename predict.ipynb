{
 "cells": [
  {
   "cell_type": "code",
   "execution_count": 40,
   "metadata": {},
   "outputs": [],
   "source": [
    "import pandas as pd\n",
    "import numpy as np\n",
    "import matplotlib.pyplot as plt\n",
    "import os\n",
    "%matplotlib inline\n",
    "import math\n",
    "from keras.models import Sequential\n",
    "from keras.layers import Dense, LSTM, Dropout\n",
    "from sklearn.preprocessing import MinMaxScaler\n",
    "from sklearn.metrics import mean_squared_error"
   ]
  },
  {
   "cell_type": "code",
   "execution_count": 42,
   "metadata": {},
   "outputs": [
    {
     "data": {
      "text/html": [
       "<div>\n",
       "<style scoped>\n",
       "    .dataframe tbody tr th:only-of-type {\n",
       "        vertical-align: middle;\n",
       "    }\n",
       "\n",
       "    .dataframe tbody tr th {\n",
       "        vertical-align: top;\n",
       "    }\n",
       "\n",
       "    .dataframe thead th {\n",
       "        text-align: right;\n",
       "    }\n",
       "</style>\n",
       "<table border=\"1\" class=\"dataframe\">\n",
       "  <thead>\n",
       "    <tr style=\"text-align: right;\">\n",
       "      <th></th>\n",
       "      <th>Date</th>\n",
       "      <th>Open</th>\n",
       "      <th>High</th>\n",
       "      <th>Low</th>\n",
       "      <th>Close</th>\n",
       "      <th>Volume</th>\n",
       "    </tr>\n",
       "  </thead>\n",
       "  <tbody>\n",
       "    <tr>\n",
       "      <th>0</th>\n",
       "      <td>1/3/2012</td>\n",
       "      <td>325.25</td>\n",
       "      <td>332.83</td>\n",
       "      <td>324.97</td>\n",
       "      <td>663.59</td>\n",
       "      <td>7,380,500</td>\n",
       "    </tr>\n",
       "    <tr>\n",
       "      <th>1</th>\n",
       "      <td>1/4/2012</td>\n",
       "      <td>331.27</td>\n",
       "      <td>333.87</td>\n",
       "      <td>329.08</td>\n",
       "      <td>666.45</td>\n",
       "      <td>5,749,400</td>\n",
       "    </tr>\n",
       "    <tr>\n",
       "      <th>2</th>\n",
       "      <td>1/5/2012</td>\n",
       "      <td>329.83</td>\n",
       "      <td>330.75</td>\n",
       "      <td>326.89</td>\n",
       "      <td>657.21</td>\n",
       "      <td>6,590,300</td>\n",
       "    </tr>\n",
       "    <tr>\n",
       "      <th>3</th>\n",
       "      <td>1/6/2012</td>\n",
       "      <td>328.34</td>\n",
       "      <td>328.77</td>\n",
       "      <td>323.68</td>\n",
       "      <td>648.24</td>\n",
       "      <td>5,405,900</td>\n",
       "    </tr>\n",
       "    <tr>\n",
       "      <th>4</th>\n",
       "      <td>1/9/2012</td>\n",
       "      <td>322.04</td>\n",
       "      <td>322.29</td>\n",
       "      <td>309.46</td>\n",
       "      <td>620.76</td>\n",
       "      <td>11,688,800</td>\n",
       "    </tr>\n",
       "    <tr>\n",
       "      <th>...</th>\n",
       "      <td>...</td>\n",
       "      <td>...</td>\n",
       "      <td>...</td>\n",
       "      <td>...</td>\n",
       "      <td>...</td>\n",
       "      <td>...</td>\n",
       "    </tr>\n",
       "    <tr>\n",
       "      <th>1253</th>\n",
       "      <td>12/23/2016</td>\n",
       "      <td>790.90</td>\n",
       "      <td>792.74</td>\n",
       "      <td>787.28</td>\n",
       "      <td>789.91</td>\n",
       "      <td>623,400</td>\n",
       "    </tr>\n",
       "    <tr>\n",
       "      <th>1254</th>\n",
       "      <td>12/27/2016</td>\n",
       "      <td>790.68</td>\n",
       "      <td>797.86</td>\n",
       "      <td>787.66</td>\n",
       "      <td>791.55</td>\n",
       "      <td>789,100</td>\n",
       "    </tr>\n",
       "    <tr>\n",
       "      <th>1255</th>\n",
       "      <td>12/28/2016</td>\n",
       "      <td>793.70</td>\n",
       "      <td>794.23</td>\n",
       "      <td>783.20</td>\n",
       "      <td>785.05</td>\n",
       "      <td>1,153,800</td>\n",
       "    </tr>\n",
       "    <tr>\n",
       "      <th>1256</th>\n",
       "      <td>12/29/2016</td>\n",
       "      <td>783.33</td>\n",
       "      <td>785.93</td>\n",
       "      <td>778.92</td>\n",
       "      <td>782.79</td>\n",
       "      <td>744,300</td>\n",
       "    </tr>\n",
       "    <tr>\n",
       "      <th>1257</th>\n",
       "      <td>12/30/2016</td>\n",
       "      <td>782.75</td>\n",
       "      <td>782.78</td>\n",
       "      <td>770.41</td>\n",
       "      <td>771.82</td>\n",
       "      <td>1,770,000</td>\n",
       "    </tr>\n",
       "  </tbody>\n",
       "</table>\n",
       "<p>1258 rows × 6 columns</p>\n",
       "</div>"
      ],
      "text/plain": [
       "            Date    Open    High     Low   Close      Volume\n",
       "0       1/3/2012  325.25  332.83  324.97  663.59   7,380,500\n",
       "1       1/4/2012  331.27  333.87  329.08  666.45   5,749,400\n",
       "2       1/5/2012  329.83  330.75  326.89  657.21   6,590,300\n",
       "3       1/6/2012  328.34  328.77  323.68  648.24   5,405,900\n",
       "4       1/9/2012  322.04  322.29  309.46  620.76  11,688,800\n",
       "...          ...     ...     ...     ...     ...         ...\n",
       "1253  12/23/2016  790.90  792.74  787.28  789.91     623,400\n",
       "1254  12/27/2016  790.68  797.86  787.66  791.55     789,100\n",
       "1255  12/28/2016  793.70  794.23  783.20  785.05   1,153,800\n",
       "1256  12/29/2016  783.33  785.93  778.92  782.79     744,300\n",
       "1257  12/30/2016  782.75  782.78  770.41  771.82   1,770,000\n",
       "\n",
       "[1258 rows x 6 columns]"
      ]
     },
     "execution_count": 42,
     "metadata": {},
     "output_type": "execute_result"
    }
   ],
   "source": [
    "train_df=pd.read_csv(\"stock_prices.csv\")\n",
    "train_df"
   ]
  },
  {
   "cell_type": "code",
   "execution_count": 43,
   "metadata": {},
   "outputs": [
    {
     "name": "stdout",
     "output_type": "stream",
     "text": [
      "[[325.25]\n",
      " [331.27]\n",
      " [329.83]\n",
      " ...\n",
      " [793.7 ]\n",
      " [783.33]\n",
      " [782.75]]\n"
     ]
    },
    {
     "data": {
      "image/png": "[encoded data removed]",
      "text/plain": [
       "<Figure size 640x480 with 1 Axes>"
      ]
     },
     "metadata": {},
     "output_type": "display_data"
    }
   ],
   "source": [
    "data = train_df.loc[:,[\"Open\"]].values\n",
    "print(data)\n",
    "\n",
    "plt.plot(data)\n",
    "plt.xlabel(\"Time\")\n",
    "plt.ylabel(\"Open\")\n",
    "plt.title(\"Stock Price\")\n",
    "plt.show()"
   ]
  },
  {
   "cell_type": "code",
   "execution_count": 44,
   "metadata": {},
   "outputs": [
    {
     "data": {
      "text/plain": [
       "1258"
      ]
     },
     "execution_count": 44,
     "metadata": {},
     "output_type": "execute_result"
    }
   ],
   "source": [
    "train = train_df.iloc[:, 1:2].values\n",
    "len(train)"
   ]
  },
  {
   "cell_type": "code",
   "execution_count": 45,
   "metadata": {},
   "outputs": [],
   "source": [
    "scale = MinMaxScaler(feature_range=(0,1))\n",
    "train_scaled = scale.fit_transform(train)"
   ]
  },
  {
   "cell_type": "code",
   "execution_count": 47,
   "metadata": {},
   "outputs": [],
   "source": [
    "x_train = []\n",
    "y_train = []\n",
    "\n",
    "for i in range(60,len(train_scaled)):\n",
    "    x_train.append(train_scaled[i-60:i, 0])\n",
    "    y_train.append(train_scaled[i,0])\n",
    "\n",
    "x_train, y_train = np.array(x_train), np.array(y_train)"
   ]
  },
  {
   "cell_type": "code",
   "execution_count": 48,
   "metadata": {},
   "outputs": [],
   "source": [
    "x_train = np.reshape(x_train, (x_train.shape[0], x_train.shape[1], 1))"
   ]
  },
  {
   "cell_type": "code",
   "execution_count": 49,
   "metadata": {},
   "outputs": [],
   "source": [
    "model = Sequential()\n",
    "\n",
    "model.add(LSTM(units = 50, return_sequences=True, input_shape = (x_train.shape[1], 1)))\n",
    "\n",
    "model.add(Dropout(0.2))\n",
    "\n",
    "model.add(LSTM(units = 50, return_sequences=True))\n",
    "model.add(Dropout(0.2))\n",
    "\n",
    "model.add(LSTM(units = 50, return_sequences=True))\n",
    "model.add(Dropout(0.2))\n",
    "\n",
    "model.add(LSTM(units = 50))\n",
    "model.add(Dropout(0.2))\n",
    "\n",
    "model.add(Dense(units = 1))"
   ]
  },
  {
   "cell_type": "code",
   "execution_count": 50,
   "metadata": {},
   "outputs": [
    {
     "name": "stdout",
     "output_type": "stream",
     "text": [
      "Model: \"sequential_4\"\n",
      "_________________________________________________________________\n",
      " Layer (type)                Output Shape              Param #   \n",
      "=================================================================\n",
      " lstm_12 (LSTM)              (None, 60, 50)            10400     \n",
      "                                                                 \n",
      " dropout_12 (Dropout)        (None, 60, 50)            0         \n",
      "                                                                 \n",
      " lstm_13 (LSTM)              (None, 60, 50)            20200     \n",
      "                                                                 \n",
      " dropout_13 (Dropout)        (None, 60, 50)            0         \n",
      "                                                                 \n",
      " lstm_14 (LSTM)              (None, 60, 50)            20200     \n",
      "                                                                 \n",
      " dropout_14 (Dropout)        (None, 60, 50)            0         \n",
      "                                                                 \n",
      " lstm_15 (LSTM)              (None, 50)                20200     \n",
      "                                                                 \n",
      " dropout_15 (Dropout)        (None, 50)                0         \n",
      "                                                                 \n",
      " dense_4 (Dense)             (None, 1)                 51        \n",
      "                                                                 \n",
      "=================================================================\n",
      "Total params: 71,051\n",
      "Trainable params: 71,051\n",
      "Non-trainable params: 0\n",
      "_________________________________________________________________\n"
     ]
    }
   ],
   "source": [
    "model.summary()"
   ]
  },
  {
   "cell_type": "code",
   "execution_count": 51,
   "metadata": {},
   "outputs": [],
   "source": [
    "model.compile(optimizer= 'adam', loss='mean_squared_error')"
   ]
  },
  {
   "cell_type": "code",
   "execution_count": 52,
   "metadata": {},
   "outputs": [
    {
     "name": "stdout",
     "output_type": "stream",
     "text": [
      "Epoch 1/100\n",
      "38/38 [==============================] - 9s 69ms/step - loss: 0.0358\n",
      "Epoch 2/100\n",
      "38/38 [==============================] - 3s 81ms/step - loss: 0.0060\n",
      "Epoch 3/100\n",
      "38/38 [==============================] - 3s 75ms/step - loss: 0.0054\n",
      "Epoch 4/100\n",
      "38/38 [==============================] - 3s 70ms/step - loss: 0.0048\n",
      "Epoch 5/100\n",
      "38/38 [==============================] - 3s 77ms/step - loss: 0.0050\n",
      "Epoch 6/100\n",
      "38/38 [==============================] - 4s 111ms/step - loss: 0.0053\n",
      "Epoch 7/100\n",
      "38/38 [==============================] - 3s 91ms/step - loss: 0.0046\n",
      "Epoch 8/100\n",
      "38/38 [==============================] - 4s 94ms/step - loss: 0.0052\n",
      "Epoch 9/100\n",
      "38/38 [==============================] - 4s 112ms/step - loss: 0.0044\n",
      "Epoch 10/100\n",
      "38/38 [==============================] - 5s 120ms/step - loss: 0.0041\n",
      "Epoch 11/100\n",
      "38/38 [==============================] - 4s 101ms/step - loss: 0.0042\n",
      "Epoch 12/100\n",
      "38/38 [==============================] - 4s 98ms/step - loss: 0.0043\n",
      "Epoch 13/100\n",
      "38/38 [==============================] - 4s 111ms/step - loss: 0.0044\n",
      "Epoch 14/100\n",
      "38/38 [==============================] - 4s 95ms/step - loss: 0.0045\n",
      "Epoch 15/100\n",
      "38/38 [==============================] - 3s 88ms/step - loss: 0.0039\n",
      "Epoch 16/100\n",
      "38/38 [==============================] - 4s 97ms/step - loss: 0.0038\n",
      "Epoch 17/100\n",
      "38/38 [==============================] - 4s 115ms/step - loss: 0.0033\n",
      "Epoch 18/100\n",
      "38/38 [==============================] - 4s 107ms/step - loss: 0.0033\n",
      "Epoch 19/100\n",
      "38/38 [==============================] - 4s 100ms/step - loss: 0.0033\n",
      "Epoch 20/100\n",
      "38/38 [==============================] - 4s 101ms/step - loss: 0.0038\n",
      "Epoch 21/100\n",
      "38/38 [==============================] - 5s 123ms/step - loss: 0.0035\n",
      "Epoch 22/100\n",
      "38/38 [==============================] - 4s 109ms/step - loss: 0.0037\n",
      "Epoch 23/100\n",
      "38/38 [==============================] - 5s 125ms/step - loss: 0.0034\n",
      "Epoch 24/100\n",
      "38/38 [==============================] - 4s 104ms/step - loss: 0.0033\n",
      "Epoch 25/100\n",
      "38/38 [==============================] - 5s 134ms/step - loss: 0.0032\n",
      "Epoch 26/100\n",
      "38/38 [==============================] - 5s 130ms/step - loss: 0.0032\n",
      "Epoch 27/100\n",
      "38/38 [==============================] - 4s 103ms/step - loss: 0.0033\n",
      "Epoch 28/100\n",
      "38/38 [==============================] - 6s 146ms/step - loss: 0.0029\n",
      "Epoch 29/100\n",
      "38/38 [==============================] - 4s 116ms/step - loss: 0.0030\n",
      "Epoch 30/100\n",
      "38/38 [==============================] - 5s 126ms/step - loss: 0.0031\n",
      "Epoch 31/100\n",
      "38/38 [==============================] - 5s 124ms/step - loss: 0.0031\n",
      "Epoch 32/100\n",
      "38/38 [==============================] - 5s 141ms/step - loss: 0.0028\n",
      "Epoch 33/100\n",
      "38/38 [==============================] - 5s 124ms/step - loss: 0.0030\n",
      "Epoch 34/100\n",
      "38/38 [==============================] - 4s 104ms/step - loss: 0.0034\n",
      "Epoch 35/100\n",
      "38/38 [==============================] - 4s 112ms/step - loss: 0.0030\n",
      "Epoch 36/100\n",
      "38/38 [==============================] - 5s 133ms/step - loss: 0.0028\n",
      "Epoch 37/100\n",
      "38/38 [==============================] - 5s 125ms/step - loss: 0.0027\n",
      "Epoch 38/100\n",
      "38/38 [==============================] - 6s 154ms/step - loss: 0.0026\n",
      "Epoch 39/100\n",
      "38/38 [==============================] - 4s 117ms/step - loss: 0.0026\n",
      "Epoch 40/100\n",
      "38/38 [==============================] - 4s 116ms/step - loss: 0.0025\n",
      "Epoch 41/100\n",
      "38/38 [==============================] - 4s 98ms/step - loss: 0.0023\n",
      "Epoch 42/100\n",
      "38/38 [==============================] - 4s 98ms/step - loss: 0.0024\n",
      "Epoch 43/100\n",
      "38/38 [==============================] - 4s 97ms/step - loss: 0.0024\n",
      "Epoch 44/100\n",
      "38/38 [==============================] - 4s 97ms/step - loss: 0.0028\n",
      "Epoch 45/100\n",
      "38/38 [==============================] - 4s 98ms/step - loss: 0.0028\n",
      "Epoch 46/100\n",
      "38/38 [==============================] - 4s 96ms/step - loss: 0.0025\n",
      "Epoch 47/100\n",
      "38/38 [==============================] - 4s 98ms/step - loss: 0.0024\n",
      "Epoch 48/100\n",
      "38/38 [==============================] - 4s 99ms/step - loss: 0.0022\n",
      "Epoch 49/100\n",
      "38/38 [==============================] - 4s 99ms/step - loss: 0.0023\n",
      "Epoch 50/100\n",
      "38/38 [==============================] - 4s 104ms/step - loss: 0.0024\n",
      "Epoch 51/100\n",
      "38/38 [==============================] - 4s 99ms/step - loss: 0.0022\n",
      "Epoch 52/100\n",
      "38/38 [==============================] - 4s 96ms/step - loss: 0.0022\n",
      "Epoch 53/100\n",
      "38/38 [==============================] - 4s 101ms/step - loss: 0.0026\n",
      "Epoch 54/100\n",
      "38/38 [==============================] - 4s 98ms/step - loss: 0.0023\n",
      "Epoch 55/100\n",
      "38/38 [==============================] - 4s 98ms/step - loss: 0.0023\n",
      "Epoch 56/100\n",
      "38/38 [==============================] - 5s 124ms/step - loss: 0.0022\n",
      "Epoch 57/100\n",
      "38/38 [==============================] - 4s 113ms/step - loss: 0.0021\n",
      "Epoch 58/100\n",
      "38/38 [==============================] - 4s 112ms/step - loss: 0.0021\n",
      "Epoch 59/100\n",
      "38/38 [==============================] - 5s 121ms/step - loss: 0.0022\n",
      "Epoch 60/100\n",
      "38/38 [==============================] - 5s 122ms/step - loss: 0.0019\n",
      "Epoch 61/100\n",
      "38/38 [==============================] - 5s 131ms/step - loss: 0.0020\n",
      "Epoch 62/100\n",
      "38/38 [==============================] - 5s 138ms/step - loss: 0.0021\n",
      "Epoch 63/100\n",
      "38/38 [==============================] - 10s 268ms/step - loss: 0.0019\n",
      "Epoch 64/100\n",
      "38/38 [==============================] - 7s 192ms/step - loss: 0.0022\n",
      "Epoch 65/100\n",
      "38/38 [==============================] - 6s 159ms/step - loss: 0.0021\n",
      "Epoch 66/100\n",
      "38/38 [==============================] - 6s 147ms/step - loss: 0.0018\n",
      "Epoch 67/100\n",
      "38/38 [==============================] - 6s 152ms/step - loss: 0.0018\n",
      "Epoch 68/100\n",
      "38/38 [==============================] - 6s 152ms/step - loss: 0.0021\n",
      "Epoch 69/100\n",
      "38/38 [==============================] - 6s 146ms/step - loss: 0.0022\n",
      "Epoch 70/100\n",
      "38/38 [==============================] - 6s 151ms/step - loss: 0.0021\n",
      "Epoch 71/100\n",
      "38/38 [==============================] - 6s 150ms/step - loss: 0.0020\n",
      "Epoch 72/100\n",
      "38/38 [==============================] - 6s 154ms/step - loss: 0.0018\n",
      "Epoch 73/100\n",
      "38/38 [==============================] - 6s 148ms/step - loss: 0.0018\n",
      "Epoch 74/100\n",
      "38/38 [==============================] - 6s 165ms/step - loss: 0.0017\n",
      "Epoch 75/100\n",
      "38/38 [==============================] - 7s 189ms/step - loss: 0.0015\n",
      "Epoch 76/100\n",
      "38/38 [==============================] - 7s 181ms/step - loss: 0.0015\n",
      "Epoch 77/100\n",
      "38/38 [==============================] - 6s 169ms/step - loss: 0.0018\n",
      "Epoch 78/100\n",
      "38/38 [==============================] - 7s 183ms/step - loss: 0.0018\n",
      "Epoch 79/100\n",
      "38/38 [==============================] - 6s 170ms/step - loss: 0.0016\n",
      "Epoch 80/100\n",
      "38/38 [==============================] - 7s 172ms/step - loss: 0.0016\n",
      "Epoch 81/100\n",
      "38/38 [==============================] - 6s 170ms/step - loss: 0.0015\n",
      "Epoch 82/100\n",
      "38/38 [==============================] - 7s 171ms/step - loss: 0.0015\n",
      "Epoch 83/100\n",
      "38/38 [==============================] - 6s 169ms/step - loss: 0.0016\n",
      "Epoch 84/100\n",
      "38/38 [==============================] - 7s 193ms/step - loss: 0.0016\n",
      "Epoch 85/100\n",
      "38/38 [==============================] - 7s 179ms/step - loss: 0.0016\n",
      "Epoch 86/100\n",
      "38/38 [==============================] - 7s 175ms/step - loss: 0.0015\n",
      "Epoch 87/100\n",
      "38/38 [==============================] - 7s 171ms/step - loss: 0.0015\n",
      "Epoch 88/100\n",
      "38/38 [==============================] - 6s 171ms/step - loss: 0.0016\n",
      "Epoch 89/100\n",
      "38/38 [==============================] - 6s 160ms/step - loss: 0.0015\n",
      "Epoch 90/100\n",
      "38/38 [==============================] - 6s 152ms/step - loss: 0.0014\n",
      "Epoch 91/100\n",
      "38/38 [==============================] - 5s 136ms/step - loss: 0.0017\n",
      "Epoch 92/100\n",
      "38/38 [==============================] - 4s 108ms/step - loss: 0.0015\n",
      "Epoch 93/100\n",
      "38/38 [==============================] - 4s 105ms/step - loss: 0.0014\n",
      "Epoch 94/100\n",
      "38/38 [==============================] - 4s 108ms/step - loss: 0.0014\n",
      "Epoch 95/100\n",
      "38/38 [==============================] - 4s 104ms/step - loss: 0.0014\n",
      "Epoch 96/100\n",
      "38/38 [==============================] - 4s 102ms/step - loss: 0.0014\n",
      "Epoch 97/100\n",
      "38/38 [==============================] - 4s 104ms/step - loss: 0.0014\n",
      "Epoch 98/100\n",
      "38/38 [==============================] - 5s 120ms/step - loss: 0.0014\n",
      "Epoch 99/100\n",
      "38/38 [==============================] - 4s 102ms/step - loss: 0.0015\n",
      "Epoch 100/100\n",
      "38/38 [==============================] - 4s 105ms/step - loss: 0.0015\n"
     ]
    },
    {
     "data": {
      "text/plain": [
       "<keras.callbacks.History at 0x1eb97d90410>"
      ]
     },
     "execution_count": 52,
     "metadata": {},
     "output_type": "execute_result"
    }
   ],
   "source": [
    "model.fit(x_train, y_train, epochs = 100, batch_size= 32)"
   ]
  },
  {
   "cell_type": "code",
   "execution_count": 53,
   "metadata": {},
   "outputs": [
    {
     "data": {
      "text/html": [
       "<div>\n",
       "<style scoped>\n",
       "    .dataframe tbody tr th:only-of-type {\n",
       "        vertical-align: middle;\n",
       "    }\n",
       "\n",
       "    .dataframe tbody tr th {\n",
       "        vertical-align: top;\n",
       "    }\n",
       "\n",
       "    .dataframe thead th {\n",
       "        text-align: right;\n",
       "    }\n",
       "</style>\n",
       "<table border=\"1\" class=\"dataframe\">\n",
       "  <thead>\n",
       "    <tr style=\"text-align: right;\">\n",
       "      <th></th>\n",
       "      <th>Date</th>\n",
       "      <th>Open</th>\n",
       "      <th>High</th>\n",
       "      <th>Low</th>\n",
       "      <th>Close</th>\n",
       "      <th>Volume</th>\n",
       "    </tr>\n",
       "  </thead>\n",
       "  <tbody>\n",
       "    <tr>\n",
       "      <th>0</th>\n",
       "      <td>1/3/2012</td>\n",
       "      <td>325.25</td>\n",
       "      <td>332.83</td>\n",
       "      <td>324.97</td>\n",
       "      <td>663.59</td>\n",
       "      <td>7,380,500</td>\n",
       "    </tr>\n",
       "    <tr>\n",
       "      <th>1</th>\n",
       "      <td>1/4/2012</td>\n",
       "      <td>331.27</td>\n",
       "      <td>333.87</td>\n",
       "      <td>329.08</td>\n",
       "      <td>666.45</td>\n",
       "      <td>5,749,400</td>\n",
       "    </tr>\n",
       "    <tr>\n",
       "      <th>2</th>\n",
       "      <td>1/5/2012</td>\n",
       "      <td>329.83</td>\n",
       "      <td>330.75</td>\n",
       "      <td>326.89</td>\n",
       "      <td>657.21</td>\n",
       "      <td>6,590,300</td>\n",
       "    </tr>\n",
       "    <tr>\n",
       "      <th>3</th>\n",
       "      <td>1/6/2012</td>\n",
       "      <td>328.34</td>\n",
       "      <td>328.77</td>\n",
       "      <td>323.68</td>\n",
       "      <td>648.24</td>\n",
       "      <td>5,405,900</td>\n",
       "    </tr>\n",
       "    <tr>\n",
       "      <th>4</th>\n",
       "      <td>1/9/2012</td>\n",
       "      <td>322.04</td>\n",
       "      <td>322.29</td>\n",
       "      <td>309.46</td>\n",
       "      <td>620.76</td>\n",
       "      <td>11,688,800</td>\n",
       "    </tr>\n",
       "  </tbody>\n",
       "</table>\n",
       "</div>"
      ],
      "text/plain": [
       "       Date    Open    High     Low   Close      Volume\n",
       "0  1/3/2012  325.25  332.83  324.97  663.59   7,380,500\n",
       "1  1/4/2012  331.27  333.87  329.08  666.45   5,749,400\n",
       "2  1/5/2012  329.83  330.75  326.89  657.21   6,590,300\n",
       "3  1/6/2012  328.34  328.77  323.68  648.24   5,405,900\n",
       "4  1/9/2012  322.04  322.29  309.46  620.76  11,688,800"
      ]
     },
     "execution_count": 53,
     "metadata": {},
     "output_type": "execute_result"
    }
   ],
   "source": [
    "test_df = pd.read_csv(\"stock_prices.csv\")\n",
    "test_df.head()"
   ]
  },
  {
   "cell_type": "code",
   "execution_count": 54,
   "metadata": {},
   "outputs": [],
   "source": [
    "stock_price = test_df.iloc[:, 1:2].values"
   ]
  },
  {
   "cell_type": "code",
   "execution_count": 55,
   "metadata": {},
   "outputs": [
    {
     "name": "stderr",
     "output_type": "stream",
     "text": [
      "C:\\Users\\pathu\\AppData\\Local\\Temp\\ipykernel_7080\\3998103066.py:2: FutureWarning: The behavior of `series[i:j]` with an integer-dtype index is deprecated. In a future version, this will be treated as *label-based* indexing, consistent with e.g. `series[i]` lookups. To retain the old behavior, use `series.iloc[i:j]`. To get the future behavior, use `series.loc[i:j]`.\n",
      "  inputs = total_df[len(total_df) - len(test_df) -  60:].values\n"
     ]
    }
   ],
   "source": [
    "total_df = pd.concat((train_df['Open'], test_df['Open']), axis = 0)\n",
    "inputs = total_df[len(total_df) - len(test_df) -  60:].values\n",
    "inputs = inputs.reshape(-1, 1)\n",
    "inputs = scale.transform(inputs)"
   ]
  },
  {
   "cell_type": "code",
   "execution_count": 56,
   "metadata": {},
   "outputs": [],
   "source": [
    "x_test = []\n",
    "\n",
    "for i in range(60, len(inputs)):\n",
    "    x_test.append(inputs[i-60:i, 0])\n",
    "    \n",
    "x_test = np.array(x_test)\n",
    "\n",
    "x_test = np.reshape(x_test, (x_test.shape[0], x_test.shape[1], 1))"
   ]
  },
  {
   "cell_type": "code",
   "execution_count": 57,
   "metadata": {},
   "outputs": [
    {
     "name": "stdout",
     "output_type": "stream",
     "text": [
      "40/40 [==============================] - 3s 33ms/step\n"
     ]
    },
    {
     "data": {
      "text/plain": [
       "array([[0.9164881 ],\n",
       "       [0.76042074],\n",
       "       [0.5823026 ],\n",
       "       ...,\n",
       "       [0.92240053],\n",
       "       [0.9240056 ],\n",
       "       [0.92088085]], dtype=float32)"
      ]
     },
     "execution_count": 57,
     "metadata": {},
     "output_type": "execute_result"
    }
   ],
   "source": [
    "predicted_stock_price = model.predict(x_test)\n",
    "predicted_stock_price"
   ]
  },
  {
   "cell_type": "code",
   "execution_count": 58,
   "metadata": {},
   "outputs": [
    {
     "data": {
      "text/plain": [
       "array([[771.78735],\n",
       "       [687.8918 ],\n",
       "       [592.1425 ],\n",
       "       ...,\n",
       "       [774.96564],\n",
       "       [775.8284 ],\n",
       "       [774.14874]], dtype=float32)"
      ]
     },
     "execution_count": 58,
     "metadata": {},
     "output_type": "execute_result"
    }
   ],
   "source": [
    "predicted_stock_price = scale.inverse_transform(predicted_stock_price)\n",
    "predicted_stock_price"
   ]
  },
  {
   "cell_type": "code",
   "execution_count": 59,
   "metadata": {},
   "outputs": [
    {
     "data": {
      "image/png": "[encoded data removed]",
      "text/plain": [
       "<Figure size 640x480 with 1 Axes>"
      ]
     },
     "metadata": {},
     "output_type": "display_data"
    }
   ],
   "source": [
    "plt.plot(stock_price, color = 'red', label = 'Real Google Stock price')\n",
    "plt.plot(predicted_stock_price, color = 'green', label = 'Predicted Google Stock price')\n",
    "plt.title(\"Google Stock Price Prediction\")\n",
    "plt.xlabel('Time')\n",
    "plt.ylabel('Stock price')\n",
    "plt.legend()\n",
    "plt.show()"
   ]
  },
  {
   "cell_type": "code",
   "execution_count": 60,
   "metadata": {},
   "outputs": [],
   "source": [
    "import math\n",
    "from sklearn.metrics import mean_squared_error\n",
    "rmse = math.sqrt(mean_squared_error(stock_price, predicted_stock_price))"
   ]
  },
  {
   "cell_type": "code",
   "execution_count": 61,
   "metadata": {},
   "outputs": [
    {
     "name": "stdout",
     "output_type": "stream",
     "text": [
      "Mean square error : 24.432394603609712\n"
     ]
    }
   ],
   "source": [
    "print(f\"Mean square error : {rmse}\")"
   ]
  }
 ],
 "metadata": {
  "kernelspec": {
   "display_name": "Python 3",
   "language": "python",
   "name": "python3"
  },
  "language_info": {
   "codemirror_mode": {
    "name": "ipython",
    "version": 3
   },
   "file_extension": ".py",
   "mimetype": "text/x-python",
   "name": "python",
   "nbconvert_exporter": "python",
   "pygments_lexer": "ipython3",
   "version": "3.11.0"
  },
  "orig_nbformat": 4
 },
 "nbformat": 4,
 "nbformat_minor": 2
}
